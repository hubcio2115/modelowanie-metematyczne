{
 "cells": [
  {
   "cell_type": "markdown",
   "metadata": {},
   "source": [
    "# Permutacja"
   ]
  },
  {
   "cell_type": "code",
   "execution_count": 2,
   "metadata": {
    "vscode": {
     "languageId": "r"
    }
   },
   "outputs": [
    {
     "name": "stdout",
     "output_type": "stream",
     "text": [
      "[1] 242161920\n"
     ]
    }
   ],
   "source": [
    "# 3.\n",
    "print(factorial(14)/30/12)"
   ]
  },
  {
   "cell_type": "markdown",
   "metadata": {},
   "source": [
    "# Reguła mnożenia"
   ]
  },
  {
   "cell_type": "code",
   "execution_count": 4,
   "metadata": {
    "vscode": {
     "languageId": "r"
    }
   },
   "outputs": [
    {
     "name": "stdout",
     "output_type": "stream",
     "text": [
      "[1] 2880\n",
      "[1] 1200000\n"
     ]
    }
   ],
   "source": [
    "# 1.\n",
    "print(factorial(5) * factorial(4))\n",
    "\n",
    "# 2.\n",
    "print(12 * 20 * 10 * 20 * 25)"
   ]
  },
  {
   "cell_type": "markdown",
   "metadata": {},
   "source": [
    "# Kombinacje"
   ]
  },
  {
   "cell_type": "code",
   "execution_count": 5,
   "metadata": {
    "vscode": {
     "languageId": "r"
    }
   },
   "outputs": [
    {
     "name": "stdout",
     "output_type": "stream",
     "text": [
      "[1] 13983816\n"
     ]
    }
   ],
   "source": [
    "# kombinacje\n",
    "# 3.\n",
    "print(choose(49, 6))"
   ]
  },
  {
   "cell_type": "markdown",
   "metadata": {},
   "source": [
    "# Wariacje bez powtórzeń"
   ]
  },
  {
   "cell_type": "code",
   "execution_count": 6,
   "metadata": {
    "vscode": {
     "languageId": "r"
    }
   },
   "outputs": [
    {
     "name": "stdout",
     "output_type": "stream",
     "text": [
      "[1] 336\n",
      "[1] 840\n",
      "[1] 32768\n"
     ]
    }
   ],
   "source": [
    "# 1.\n",
    "x = factorial(8) / (factorial(8 - 3))\n",
    "print(x)\n",
    "\n",
    "# 2.\n",
    "x = factorial(7) / (factorial(7 - 4))\n",
    "print(x)\n",
    "\n",
    "# wariacje z powtórzeniami\n",
    "# 1.\n",
    "x = 8 ^ 5\n",
    "print(x)"
   ]
  },
  {
   "cell_type": "markdown",
   "metadata": {},
   "source": [
    "# Wariacje z powtórzeniami"
   ]
  },
  {
   "cell_type": "code",
   "execution_count": 7,
   "metadata": {
    "vscode": {
     "languageId": "r"
    }
   },
   "outputs": [
    {
     "name": "stdout",
     "output_type": "stream",
     "text": [
      "[1] 32768\n",
      "[1] 1e+05\n"
     ]
    }
   ],
   "source": [
    "# 1.\n",
    "x = 8 ^ 5\n",
    "print(x)\n",
    "\n",
    "# 2.\n",
    "x = 10 ^ 5\n",
    "print(x)"
   ]
  }
 ],
 "metadata": {
  "kernelspec": {
   "display_name": "R",
   "language": "R",
   "name": "ir"
  },
  "language_info": {
   "codemirror_mode": "r",
   "file_extension": ".r",
   "mimetype": "text/x-r-source",
   "name": "R",
   "pygments_lexer": "r",
   "version": "4.2.1"
  },
  "orig_nbformat": 4
 },
 "nbformat": 4,
 "nbformat_minor": 2
}
